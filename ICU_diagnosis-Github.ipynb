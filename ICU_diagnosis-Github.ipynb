{
 "cells": [
  {
   "cell_type": "markdown",
   "metadata": {},
   "source": [
    "<H1>Patient's mortality prediction from 24 hours of ICU data</H1>"
   ]
  },
  {
   "cell_type": "markdown",
   "metadata": {},
   "source": [
    "Source: https://www.kaggle.com/c/widsdatathon2020/data"
   ]
  },
  {
   "cell_type": "markdown",
   "metadata": {},
   "source": [
    "1. Objective: Predict the survival of the patient based on the first 24 hours data from Intesive Care Unit (ICU) in a hospital"
   ]
  },
  {
   "cell_type": "markdown",
   "metadata": {},
   "source": [
    "2. Mapping real world problem to ML problem\n",
    "  \n",
    "  2.1 Type of machine learning problem:\n",
    "        The output is binary and thus this is a binary classification\n",
    "  2.2 Metric for performance model\n",
    "       - Logistic loss is the primary performance metric\n",
    "       - Area under the Receiver Operating Characteristic (ROC) curve is the secondary performance metric. ROC-AUC is the performance metric requested by Kaggle\n",
    "      \n",
    "       "
   ]
  },
  {
   "cell_type": "markdown",
   "metadata": {},
   "source": [
    "3. Exploratory Data Analysis\n",
    "    3.1 Understanding Features\n",
    "    3.2 Exploration of APACHE 4 probabilistic prediction values and its correlation with hospital death\n",
    "    "
   ]
  },
  {
   "cell_type": "markdown",
   "metadata": {},
   "source": [
    "1. Variance threshold = 0.1\n",
    "     Columns removed: 'readmission_status' 'gcs_unable_apache' 'ph_apache' 'd1_arterial_ph_max'\n",
    "     'aids' 'leukemia' 'lymphoma'\n",
    "\n",
    "2. Features with >90% of the data is missing:\n",
    "    Columns removed: 'h1_albumin_max', 'h1_albumin_min', 'h1_bilirubin_max',\n",
    "    'h1_bilirubin_min', 'h1_lactate_max', 'h1_lactate_min'\n",
    "\n",
    "3. Split features and target variable\n",
    "\n",
    "4. Split test, train dataset\n",
    "\n",
    "5. Create dummy variables for categorical variables\n",
    "\n",
    "6. Standardize features except categorical variables\n",
    "\n",
    "7. Impute median in missing values position"
   ]
  },
  {
   "cell_type": "code",
   "execution_count": 135,
   "metadata": {},
   "outputs": [],
   "source": [
    "### Importing required modules\n",
    "\n",
    "import pandas as pd\n",
    "import numpy as np\n",
    "import seaborn as sns\n",
    "import matplotlib.pyplot as plt\n",
    "from sklearn.preprocessing import StandardScaler\n",
    "from sklearn.feature_selection import VarianceThreshold, RFECV\n",
    "from sklearn.impute import SimpleImputer\n",
    "from sklearn.preprocessing import OneHotEncoder\n",
    "from sklearn import pipeline\n",
    "from sklearn.model_selection import train_test_split, StratifiedKFold, GridSearchCV, cross_val_score, cross_validate\n",
    "from imblearn.over_sampling import SMOTE\n",
    "from sklearn.ensemble import RandomForestClassifier, GradientBoostingClassifier\n",
    "from sklearn.pipeline import Pipeline, FeatureUnion\n",
    "from sklearn.metrics import roc_auc_score, roc_curve, recall_score, precision_score, confusion_matrix\n",
    "from sklearn.metrics import precision_recall_curve, auc, make_scorer, log_loss\n",
    "from sklearn.linear_model import LogisticRegression, SGDClassifier\n",
    "from joblib import dump, load\n",
    "from sklearn.neighbors import KNeighborsClassifier as knn\n",
    "from sklearn.dummy import DummyClassifier\n",
    "from sklearn.naive_bayes import GaussianNB\n",
    "from sklearn.calibration import CalibratedClassifierCV\n",
    "from sklearn.svm import LinearSVC\n",
    "#from xgboost import XGBClassifier"
   ]
  },
  {
   "cell_type": "code",
   "execution_count": 37,
   "metadata": {},
   "outputs": [
    {
     "data": {
      "text/html": [
       "<div>\n",
       "<style scoped>\n",
       "    .dataframe tbody tr th:only-of-type {\n",
       "        vertical-align: middle;\n",
       "    }\n",
       "\n",
       "    .dataframe tbody tr th {\n",
       "        vertical-align: top;\n",
       "    }\n",
       "\n",
       "    .dataframe thead th {\n",
       "        text-align: right;\n",
       "    }\n",
       "</style>\n",
       "<table border=\"1\" class=\"dataframe\">\n",
       "  <thead>\n",
       "    <tr style=\"text-align: right;\">\n",
       "      <th></th>\n",
       "      <th>encounter_id</th>\n",
       "      <th>patient_id</th>\n",
       "      <th>hospital_id</th>\n",
       "      <th>hospital_death</th>\n",
       "      <th>age</th>\n",
       "      <th>bmi</th>\n",
       "      <th>elective_surgery</th>\n",
       "      <th>ethnicity</th>\n",
       "      <th>gender</th>\n",
       "      <th>height</th>\n",
       "      <th>...</th>\n",
       "      <th>aids</th>\n",
       "      <th>cirrhosis</th>\n",
       "      <th>diabetes_mellitus</th>\n",
       "      <th>hepatic_failure</th>\n",
       "      <th>immunosuppression</th>\n",
       "      <th>leukemia</th>\n",
       "      <th>lymphoma</th>\n",
       "      <th>solid_tumor_with_metastasis</th>\n",
       "      <th>apache_3j_bodysystem</th>\n",
       "      <th>apache_2_bodysystem</th>\n",
       "    </tr>\n",
       "  </thead>\n",
       "  <tbody>\n",
       "    <tr>\n",
       "      <td>0</td>\n",
       "      <td>66154</td>\n",
       "      <td>25312</td>\n",
       "      <td>118</td>\n",
       "      <td>0</td>\n",
       "      <td>68.0</td>\n",
       "      <td>22.73</td>\n",
       "      <td>0</td>\n",
       "      <td>Caucasian</td>\n",
       "      <td>M</td>\n",
       "      <td>180.3</td>\n",
       "      <td>...</td>\n",
       "      <td>0.0</td>\n",
       "      <td>0.0</td>\n",
       "      <td>1.0</td>\n",
       "      <td>0.0</td>\n",
       "      <td>0.0</td>\n",
       "      <td>0.0</td>\n",
       "      <td>0.0</td>\n",
       "      <td>0.0</td>\n",
       "      <td>Sepsis</td>\n",
       "      <td>Cardiovascular</td>\n",
       "    </tr>\n",
       "    <tr>\n",
       "      <td>1</td>\n",
       "      <td>114252</td>\n",
       "      <td>59342</td>\n",
       "      <td>81</td>\n",
       "      <td>0</td>\n",
       "      <td>77.0</td>\n",
       "      <td>27.42</td>\n",
       "      <td>0</td>\n",
       "      <td>Caucasian</td>\n",
       "      <td>F</td>\n",
       "      <td>160.0</td>\n",
       "      <td>...</td>\n",
       "      <td>0.0</td>\n",
       "      <td>0.0</td>\n",
       "      <td>1.0</td>\n",
       "      <td>0.0</td>\n",
       "      <td>0.0</td>\n",
       "      <td>0.0</td>\n",
       "      <td>0.0</td>\n",
       "      <td>0.0</td>\n",
       "      <td>Respiratory</td>\n",
       "      <td>Respiratory</td>\n",
       "    </tr>\n",
       "    <tr>\n",
       "      <td>2</td>\n",
       "      <td>119783</td>\n",
       "      <td>50777</td>\n",
       "      <td>118</td>\n",
       "      <td>0</td>\n",
       "      <td>25.0</td>\n",
       "      <td>31.95</td>\n",
       "      <td>0</td>\n",
       "      <td>Caucasian</td>\n",
       "      <td>F</td>\n",
       "      <td>172.7</td>\n",
       "      <td>...</td>\n",
       "      <td>0.0</td>\n",
       "      <td>0.0</td>\n",
       "      <td>0.0</td>\n",
       "      <td>0.0</td>\n",
       "      <td>0.0</td>\n",
       "      <td>0.0</td>\n",
       "      <td>0.0</td>\n",
       "      <td>0.0</td>\n",
       "      <td>Metabolic</td>\n",
       "      <td>Metabolic</td>\n",
       "    </tr>\n",
       "    <tr>\n",
       "      <td>3</td>\n",
       "      <td>79267</td>\n",
       "      <td>46918</td>\n",
       "      <td>118</td>\n",
       "      <td>0</td>\n",
       "      <td>81.0</td>\n",
       "      <td>22.64</td>\n",
       "      <td>1</td>\n",
       "      <td>Caucasian</td>\n",
       "      <td>F</td>\n",
       "      <td>165.1</td>\n",
       "      <td>...</td>\n",
       "      <td>0.0</td>\n",
       "      <td>0.0</td>\n",
       "      <td>0.0</td>\n",
       "      <td>0.0</td>\n",
       "      <td>0.0</td>\n",
       "      <td>0.0</td>\n",
       "      <td>0.0</td>\n",
       "      <td>0.0</td>\n",
       "      <td>Cardiovascular</td>\n",
       "      <td>Cardiovascular</td>\n",
       "    </tr>\n",
       "    <tr>\n",
       "      <td>4</td>\n",
       "      <td>92056</td>\n",
       "      <td>34377</td>\n",
       "      <td>33</td>\n",
       "      <td>0</td>\n",
       "      <td>19.0</td>\n",
       "      <td>NaN</td>\n",
       "      <td>0</td>\n",
       "      <td>Caucasian</td>\n",
       "      <td>M</td>\n",
       "      <td>188.0</td>\n",
       "      <td>...</td>\n",
       "      <td>0.0</td>\n",
       "      <td>0.0</td>\n",
       "      <td>0.0</td>\n",
       "      <td>0.0</td>\n",
       "      <td>0.0</td>\n",
       "      <td>0.0</td>\n",
       "      <td>0.0</td>\n",
       "      <td>0.0</td>\n",
       "      <td>Trauma</td>\n",
       "      <td>Trauma</td>\n",
       "    </tr>\n",
       "  </tbody>\n",
       "</table>\n",
       "<p>5 rows × 186 columns</p>\n",
       "</div>"
      ],
      "text/plain": [
       "   encounter_id  patient_id  hospital_id  hospital_death   age    bmi  \\\n",
       "0         66154       25312          118               0  68.0  22.73   \n",
       "1        114252       59342           81               0  77.0  27.42   \n",
       "2        119783       50777          118               0  25.0  31.95   \n",
       "3         79267       46918          118               0  81.0  22.64   \n",
       "4         92056       34377           33               0  19.0    NaN   \n",
       "\n",
       "   elective_surgery  ethnicity gender  height  ... aids cirrhosis  \\\n",
       "0                 0  Caucasian      M   180.3  ...  0.0       0.0   \n",
       "1                 0  Caucasian      F   160.0  ...  0.0       0.0   \n",
       "2                 0  Caucasian      F   172.7  ...  0.0       0.0   \n",
       "3                 1  Caucasian      F   165.1  ...  0.0       0.0   \n",
       "4                 0  Caucasian      M   188.0  ...  0.0       0.0   \n",
       "\n",
       "   diabetes_mellitus hepatic_failure immunosuppression  leukemia  lymphoma  \\\n",
       "0                1.0             0.0               0.0       0.0       0.0   \n",
       "1                1.0             0.0               0.0       0.0       0.0   \n",
       "2                0.0             0.0               0.0       0.0       0.0   \n",
       "3                0.0             0.0               0.0       0.0       0.0   \n",
       "4                0.0             0.0               0.0       0.0       0.0   \n",
       "\n",
       "   solid_tumor_with_metastasis  apache_3j_bodysystem  apache_2_bodysystem  \n",
       "0                          0.0                Sepsis       Cardiovascular  \n",
       "1                          0.0           Respiratory          Respiratory  \n",
       "2                          0.0             Metabolic            Metabolic  \n",
       "3                          0.0        Cardiovascular       Cardiovascular  \n",
       "4                          0.0                Trauma               Trauma  \n",
       "\n",
       "[5 rows x 186 columns]"
      ]
     },
     "execution_count": 37,
     "metadata": {},
     "output_type": "execute_result"
    }
   ],
   "source": [
    "## Load csv file into pandas\n",
    "df = pd.read_csv(\"training_v2.csv\")\n",
    "df.head()"
   ]
  },
  {
   "cell_type": "markdown",
   "metadata": {},
   "source": [
    "3. Exploratory Data Analysis"
   ]
  },
  {
   "cell_type": "code",
   "execution_count": 7,
   "metadata": {},
   "outputs": [
    {
     "name": "stdout",
     "output_type": "stream",
     "text": [
      "<class 'pandas.core.frame.DataFrame'>\n",
      "RangeIndex: 91713 entries, 0 to 91712\n",
      "Data columns (total 186 columns):\n",
      "encounter_id                     91713 non-null int64\n",
      "patient_id                       91713 non-null int64\n",
      "hospital_id                      91713 non-null int64\n",
      "hospital_death                   91713 non-null int64\n",
      "age                              87485 non-null float64\n",
      "bmi                              88284 non-null float64\n",
      "elective_surgery                 91713 non-null int64\n",
      "ethnicity                        90318 non-null object\n",
      "gender                           91688 non-null object\n",
      "height                           90379 non-null float64\n",
      "hospital_admit_source            70304 non-null object\n",
      "icu_admit_source                 91601 non-null object\n",
      "icu_id                           91713 non-null int64\n",
      "icu_stay_type                    91713 non-null object\n",
      "icu_type                         91713 non-null object\n",
      "pre_icu_los_days                 91713 non-null float64\n",
      "readmission_status               91713 non-null int64\n",
      "weight                           88993 non-null float64\n",
      "albumin_apache                   37334 non-null float64\n",
      "apache_2_diagnosis               90051 non-null float64\n",
      "apache_3j_diagnosis              90612 non-null float64\n",
      "apache_post_operative            91713 non-null int64\n",
      "arf_apache                       90998 non-null float64\n",
      "bilirubin_apache                 33579 non-null float64\n",
      "bun_apache                       72451 non-null float64\n",
      "creatinine_apache                72860 non-null float64\n",
      "fio2_apache                      20845 non-null float64\n",
      "gcs_eyes_apache                  89812 non-null float64\n",
      "gcs_motor_apache                 89812 non-null float64\n",
      "gcs_unable_apache                90676 non-null float64\n",
      "gcs_verbal_apache                89812 non-null float64\n",
      "glucose_apache                   80677 non-null float64\n",
      "heart_rate_apache                90835 non-null float64\n",
      "hematocrit_apache                71835 non-null float64\n",
      "intubated_apache                 90998 non-null float64\n",
      "map_apache                       90719 non-null float64\n",
      "paco2_apache                     20845 non-null float64\n",
      "paco2_for_ph_apache              20845 non-null float64\n",
      "pao2_apache                      20845 non-null float64\n",
      "ph_apache                        20845 non-null float64\n",
      "resprate_apache                  90479 non-null float64\n",
      "sodium_apache                    73113 non-null float64\n",
      "temp_apache                      87605 non-null float64\n",
      "urineoutput_apache               42715 non-null float64\n",
      "ventilated_apache                90998 non-null float64\n",
      "wbc_apache                       69701 non-null float64\n",
      "d1_diasbp_invasive_max           23729 non-null float64\n",
      "d1_diasbp_invasive_min           23729 non-null float64\n",
      "d1_diasbp_max                    91548 non-null float64\n",
      "d1_diasbp_min                    91548 non-null float64\n",
      "d1_diasbp_noninvasive_max        90673 non-null float64\n",
      "d1_diasbp_noninvasive_min        90673 non-null float64\n",
      "d1_heartrate_max                 91568 non-null float64\n",
      "d1_heartrate_min                 91568 non-null float64\n",
      "d1_mbp_invasive_max              23936 non-null float64\n",
      "d1_mbp_invasive_min              23936 non-null float64\n",
      "d1_mbp_max                       91493 non-null float64\n",
      "d1_mbp_min                       91493 non-null float64\n",
      "d1_mbp_noninvasive_max           90234 non-null float64\n",
      "d1_mbp_noninvasive_min           90234 non-null float64\n",
      "d1_resprate_max                  91328 non-null float64\n",
      "d1_resprate_min                  91328 non-null float64\n",
      "d1_spo2_max                      91380 non-null float64\n",
      "d1_spo2_min                      91380 non-null float64\n",
      "d1_sysbp_invasive_max            23754 non-null float64\n",
      "d1_sysbp_invasive_min            23754 non-null float64\n",
      "d1_sysbp_max                     91554 non-null float64\n",
      "d1_sysbp_min                     91554 non-null float64\n",
      "d1_sysbp_noninvasive_max         90686 non-null float64\n",
      "d1_sysbp_noninvasive_min         90686 non-null float64\n",
      "d1_temp_max                      89389 non-null float64\n",
      "d1_temp_min                      89389 non-null float64\n",
      "h1_diasbp_invasive_max           16785 non-null float64\n",
      "h1_diasbp_invasive_min           16785 non-null float64\n",
      "h1_diasbp_max                    88094 non-null float64\n",
      "h1_diasbp_min                    88094 non-null float64\n",
      "h1_diasbp_noninvasive_max        84363 non-null float64\n",
      "h1_diasbp_noninvasive_min        84363 non-null float64\n",
      "h1_heartrate_max                 88923 non-null float64\n",
      "h1_heartrate_min                 88923 non-null float64\n",
      "h1_mbp_invasive_max              16869 non-null float64\n",
      "h1_mbp_invasive_min              16869 non-null float64\n",
      "h1_mbp_max                       87074 non-null float64\n",
      "h1_mbp_min                       87074 non-null float64\n",
      "h1_mbp_noninvasive_max           82629 non-null float64\n",
      "h1_mbp_noninvasive_min           82629 non-null float64\n",
      "h1_resprate_max                  87356 non-null float64\n",
      "h1_resprate_min                  87356 non-null float64\n",
      "h1_spo2_max                      87528 non-null float64\n",
      "h1_spo2_min                      87528 non-null float64\n",
      "h1_sysbp_invasive_max            16798 non-null float64\n",
      "h1_sysbp_invasive_min            16798 non-null float64\n",
      "h1_sysbp_max                     88102 non-null float64\n",
      "h1_sysbp_min                     88102 non-null float64\n",
      "h1_sysbp_noninvasive_max         84372 non-null float64\n",
      "h1_sysbp_noninvasive_min         84372 non-null float64\n",
      "h1_temp_max                      69981 non-null float64\n",
      "h1_temp_min                      69981 non-null float64\n",
      "d1_albumin_max                   42617 non-null float64\n",
      "d1_albumin_min                   42617 non-null float64\n",
      "d1_bilirubin_max                 38040 non-null float64\n",
      "d1_bilirubin_min                 38040 non-null float64\n",
      "d1_bun_max                       81199 non-null float64\n",
      "d1_bun_min                       81199 non-null float64\n",
      "d1_calcium_max                   78644 non-null float64\n",
      "d1_calcium_min                   78644 non-null float64\n",
      "d1_creatinine_max                81544 non-null float64\n",
      "d1_creatinine_min                81544 non-null float64\n",
      "d1_glucose_max                   85906 non-null float64\n",
      "d1_glucose_min                   85906 non-null float64\n",
      "d1_hco3_max                      76642 non-null float64\n",
      "d1_hco3_min                      76642 non-null float64\n",
      "d1_hemaglobin_max                79566 non-null float64\n",
      "d1_hemaglobin_min                79566 non-null float64\n",
      "d1_hematocrit_max                80059 non-null float64\n",
      "d1_hematocrit_min                80059 non-null float64\n",
      "d1_inr_max                       33772 non-null float64\n",
      "d1_inr_min                       33772 non-null float64\n",
      "d1_lactate_max                   23317 non-null float64\n",
      "d1_lactate_min                   23317 non-null float64\n",
      "d1_platelets_max                 78269 non-null float64\n",
      "d1_platelets_min                 78269 non-null float64\n",
      "d1_potassium_max                 82128 non-null float64\n",
      "d1_potassium_min                 82128 non-null float64\n",
      "d1_sodium_max                    81518 non-null float64\n",
      "d1_sodium_min                    81518 non-null float64\n",
      "d1_wbc_max                       78539 non-null float64\n",
      "d1_wbc_min                       78539 non-null float64\n",
      "h1_albumin_max                   7889 non-null float64\n",
      "h1_albumin_min                   7889 non-null float64\n",
      "h1_bilirubin_max                 7094 non-null float64\n",
      "h1_bilirubin_min                 7094 non-null float64\n",
      "h1_bun_max                       16622 non-null float64\n",
      "h1_bun_min                       16622 non-null float64\n",
      "h1_calcium_max                   15850 non-null float64\n",
      "h1_calcium_min                   15850 non-null float64\n",
      "h1_creatinine_max                16756 non-null float64\n",
      "h1_creatinine_min                16756 non-null float64\n",
      "h1_glucose_max                   39099 non-null float64\n",
      "h1_glucose_min                   39099 non-null float64\n",
      "h1_hco3_max                      15619 non-null float64\n",
      "h1_hco3_min                      15619 non-null float64\n",
      "h1_hemaglobin_max                18590 non-null float64\n",
      "h1_hemaglobin_min                18590 non-null float64\n",
      "h1_hematocrit_max                18293 non-null float64\n",
      "h1_hematocrit_min                18293 non-null float64\n",
      "h1_inr_max                       33772 non-null float64\n",
      "h1_inr_min                       33772 non-null float64\n",
      "h1_lactate_max                   7344 non-null float64\n",
      "h1_lactate_min                   7344 non-null float64\n",
      "h1_platelets_max                 16040 non-null float64\n",
      "h1_platelets_min                 16040 non-null float64\n",
      "h1_potassium_max                 19611 non-null float64\n",
      "h1_potassium_min                 19611 non-null float64\n",
      "h1_sodium_max                    19096 non-null float64\n",
      "h1_sodium_min                    19096 non-null float64\n",
      "h1_wbc_max                       15760 non-null float64\n",
      "h1_wbc_min                       15760 non-null float64\n",
      "d1_arterial_pco2_max             32442 non-null float64\n",
      "d1_arterial_pco2_min             32442 non-null float64\n",
      "d1_arterial_ph_max               31590 non-null float64\n",
      "d1_arterial_ph_min               31590 non-null float64\n",
      "d1_arterial_po2_max              32451 non-null float64\n",
      "d1_arterial_po2_min              32451 non-null float64\n",
      "d1_pao2fio2ratio_max             25705 non-null float64\n",
      "d1_pao2fio2ratio_min             25705 non-null float64\n",
      "h1_arterial_pco2_max             15754 non-null float64\n",
      "h1_arterial_pco2_min             15754 non-null float64\n",
      "h1_arterial_ph_max               15289 non-null float64\n",
      "h1_arterial_ph_min               15289 non-null float64\n",
      "h1_arterial_po2_max              15768 non-null float64\n",
      "h1_arterial_po2_min              15768 non-null float64\n",
      "h1_pao2fio2ratio_max             11518 non-null float64\n",
      "h1_pao2fio2ratio_min             11518 non-null float64\n",
      "apache_4a_hospital_death_prob    83766 non-null float64\n",
      "apache_4a_icu_death_prob         83766 non-null float64\n",
      "aids                             90998 non-null float64\n",
      "cirrhosis                        90998 non-null float64\n",
      "diabetes_mellitus                90998 non-null float64\n",
      "hepatic_failure                  90998 non-null float64\n",
      "immunosuppression                90998 non-null float64\n",
      "leukemia                         90998 non-null float64\n",
      "lymphoma                         90998 non-null float64\n",
      "solid_tumor_with_metastasis      90998 non-null float64\n",
      "apache_3j_bodysystem             90051 non-null object\n",
      "apache_2_bodysystem              90051 non-null object\n",
      "dtypes: float64(170), int64(8), object(8)\n",
      "memory usage: 130.1+ MB\n"
     ]
    }
   ],
   "source": [
    "df.info(verbose = True, null_counts = True)"
   ]
  },
  {
   "cell_type": "markdown",
   "metadata": {},
   "source": [
    "- There are 91713 observations with 186 features in the dataset. \n",
    "- Out of 186 features, 8 are categorical features\n",
    "- Features can be grouped into five categories:\n",
    "    - ID\n",
    "    - Rest (Chronic health condition, admission status)\n",
    "    - apache values (Apache 4 scores)\n",
    "    - d1 -- Patient's vital or lab measured during the first 24 hours (d1 - day1)\n",
    "    - h1 -- Patient's vital or lab measured during the first hour (h1 - hour 1)\n",
    "\n",
    "What does APACHE mean?\n",
    "\n",
    "Reference: https://www.merckmanuals.com/professional/critical-care-medicine/approach-to-the-critically-ill-patient/critical-care-scoring-systems\n",
    "\n",
    "Acute Physiologic Assessment and Chronic Health Evaluation (APACHE)\n",
    "\n",
    "Three versions of APACHE scores are available\n",
    "APACHE II\n",
    "APACHE III\n",
    "APACHE IV\n",
    "\n",
    "APACHE scores were calculated based on patient's physiological and other health conditions to estimate ICU mortality\n",
    "\n",
    "<I>\"APACHE scores were developed to grade the severity of illness in critically ill patients. These systems are moderately accurate in predicting individual survival. However, these systems are more valuable for monitoring quality of care and for conducting research studies because they allow comparison of outcomes among groups of critically ill patients with similar illness severity.\" </I>\n",
    "\n",
    "- This data has apache 4 probability scores for inhospital and in ICU mortality\n",
    "\n",
    "From the dictionary provided, it is clear that the following 2 features provides the probability of patient's mortality in hospital and in ICU respectively:\n",
    "    - apache_4a_hospital_death_prob \n",
    "    - apache_4a_icu_death_prob"
   ]
  },
  {
   "cell_type": "code",
   "execution_count": 172,
   "metadata": {},
   "outputs": [
    {
     "name": "stdout",
     "output_type": "stream",
     "text": [
      "####################Features with id####################\n",
      "Index(['encounter_id', 'patient_id', 'hospital_id', 'icu_id'], dtype='object')\n",
      "####################apache values####################\n",
      "Index(['albumin_apache', 'apache_2_diagnosis', 'apache_3j_diagnosis',\n",
      "       'apache_post_operative', 'arf_apache', 'bilirubin_apache', 'bun_apache',\n",
      "       'creatinine_apache', 'fio2_apache', 'gcs_eyes_apache',\n",
      "       'gcs_motor_apache', 'gcs_unable_apache', 'gcs_verbal_apache',\n",
      "       'glucose_apache', 'heart_rate_apache', 'hematocrit_apache',\n",
      "       'intubated_apache', 'map_apache', 'paco2_apache', 'paco2_for_ph_apache',\n",
      "       'pao2_apache', 'ph_apache', 'resprate_apache', 'sodium_apache',\n",
      "       'temp_apache', 'urineoutput_apache', 'ventilated_apache', 'wbc_apache',\n",
      "       'apache_4a_hospital_death_prob', 'apache_4a_icu_death_prob',\n",
      "       'apache_3j_bodysystem', 'apache_2_bodysystem'],\n",
      "      dtype='object')\n",
      "####################d1 values####################\n",
      "Index(['d1_diasbp_invasive_max', 'd1_diasbp_invasive_min', 'd1_diasbp_max',\n",
      "       'd1_diasbp_min', 'd1_diasbp_noninvasive_max',\n",
      "       'd1_diasbp_noninvasive_min', 'd1_heartrate_max', 'd1_heartrate_min',\n",
      "       'd1_mbp_invasive_max', 'd1_mbp_invasive_min', 'd1_mbp_max',\n",
      "       'd1_mbp_min', 'd1_mbp_noninvasive_max', 'd1_mbp_noninvasive_min',\n",
      "       'd1_resprate_max', 'd1_resprate_min', 'd1_spo2_max', 'd1_spo2_min',\n",
      "       'd1_sysbp_invasive_max', 'd1_sysbp_invasive_min', 'd1_sysbp_max',\n",
      "       'd1_sysbp_min', 'd1_sysbp_noninvasive_max', 'd1_sysbp_noninvasive_min',\n",
      "       'd1_temp_max', 'd1_temp_min', 'd1_albumin_max', 'd1_albumin_min',\n",
      "       'd1_bilirubin_max', 'd1_bilirubin_min', 'd1_bun_max', 'd1_bun_min',\n",
      "       'd1_calcium_max', 'd1_calcium_min', 'd1_creatinine_max',\n",
      "       'd1_creatinine_min', 'd1_glucose_max', 'd1_glucose_min', 'd1_hco3_max',\n",
      "       'd1_hco3_min', 'd1_hemaglobin_max', 'd1_hemaglobin_min',\n",
      "       'd1_hematocrit_max', 'd1_hematocrit_min', 'd1_inr_max', 'd1_inr_min',\n",
      "       'd1_lactate_max', 'd1_lactate_min', 'd1_platelets_max',\n",
      "       'd1_platelets_min', 'd1_potassium_max', 'd1_potassium_min',\n",
      "       'd1_sodium_max', 'd1_sodium_min', 'd1_wbc_max', 'd1_wbc_min',\n",
      "       'd1_arterial_pco2_max', 'd1_arterial_pco2_min', 'd1_arterial_ph_max',\n",
      "       'd1_arterial_ph_min', 'd1_arterial_po2_max', 'd1_arterial_po2_min',\n",
      "       'd1_pao2fio2ratio_max', 'd1_pao2fio2ratio_min'],\n",
      "      dtype='object')\n",
      "####################h1 values####################\n",
      "Index(['h1_diasbp_invasive_max', 'h1_diasbp_invasive_min', 'h1_diasbp_max',\n",
      "       'h1_diasbp_min', 'h1_diasbp_noninvasive_max',\n",
      "       'h1_diasbp_noninvasive_min', 'h1_heartrate_max', 'h1_heartrate_min',\n",
      "       'h1_mbp_invasive_max', 'h1_mbp_invasive_min', 'h1_mbp_max',\n",
      "       'h1_mbp_min', 'h1_mbp_noninvasive_max', 'h1_mbp_noninvasive_min',\n",
      "       'h1_resprate_max', 'h1_resprate_min', 'h1_spo2_max', 'h1_spo2_min',\n",
      "       'h1_sysbp_invasive_max', 'h1_sysbp_invasive_min', 'h1_sysbp_max',\n",
      "       'h1_sysbp_min', 'h1_sysbp_noninvasive_max', 'h1_sysbp_noninvasive_min',\n",
      "       'h1_temp_max', 'h1_temp_min', 'h1_albumin_max', 'h1_albumin_min',\n",
      "       'h1_bilirubin_max', 'h1_bilirubin_min', 'h1_bun_max', 'h1_bun_min',\n",
      "       'h1_calcium_max', 'h1_calcium_min', 'h1_creatinine_max',\n",
      "       'h1_creatinine_min', 'h1_glucose_max', 'h1_glucose_min', 'h1_hco3_max',\n",
      "       'h1_hco3_min', 'h1_hemaglobin_max', 'h1_hemaglobin_min',\n",
      "       'h1_hematocrit_max', 'h1_hematocrit_min', 'h1_inr_max', 'h1_inr_min',\n",
      "       'h1_lactate_max', 'h1_lactate_min', 'h1_platelets_max',\n",
      "       'h1_platelets_min', 'h1_potassium_max', 'h1_potassium_min',\n",
      "       'h1_sodium_max', 'h1_sodium_min', 'h1_wbc_max', 'h1_wbc_min',\n",
      "       'h1_arterial_pco2_max', 'h1_arterial_pco2_min', 'h1_arterial_ph_max',\n",
      "       'h1_arterial_ph_min', 'h1_arterial_po2_max', 'h1_arterial_po2_min',\n",
      "       'h1_pao2fio2ratio_max', 'h1_pao2fio2ratio_min'],\n",
      "      dtype='object')\n",
      "####################Rest of features####################\n"
     ]
    },
    {
     "data": {
      "text/plain": [
       "Index(['hospital_death', 'age', 'bmi', 'elective_surgery', 'ethnicity',\n",
       "       'gender', 'height', 'hospital_admit_source', 'icu_admit_source',\n",
       "       'icu_stay_type', 'icu_type', 'pre_icu_los_days', 'readmission_status',\n",
       "       'weight', 'aids', 'cirrhosis', 'diabetes_mellitus', 'hepatic_failure',\n",
       "       'immunosuppression', 'leukemia', 'lymphoma',\n",
       "       'solid_tumor_with_metastasis'],\n",
       "      dtype='object')"
      ]
     },
     "execution_count": 172,
     "metadata": {},
     "output_type": "execute_result"
    }
   ],
   "source": [
    "### Separating features by tags identified above\n",
    "print(\"#\"*20 + \"Features with id\" + \"#\"*20)\n",
    "id_features = df.columns[df.columns.str.endswith('id')]\n",
    "print(id_features)\n",
    "print(\"#\"*20 + \"apache values\" + \"#\"*20)\n",
    "apache_features = df.columns[df.columns.str.contains('apache')]\n",
    "print(apache_features)\n",
    "print(\"#\"*20 + \"d1 values\" + \"#\"*20)\n",
    "d1_features = df.columns[df.columns.str.contains('d1')]\n",
    "print(d1_features)\n",
    "print(\"#\"*20 + \"h1 values\" + \"#\"*20)\n",
    "h1_features = df.columns[df.columns.str.contains('h1')]\n",
    "print(h1_features)\n",
    "print(\"#\"*20 + \"Rest of features\" + \"#\"*20)\n",
    "df.columns[~df.columns.str.contains(\"|\".join(['id$','apache','d1','h1']))]"
   ]
  },
  {
   "cell_type": "code",
   "execution_count": 250,
   "metadata": {},
   "outputs": [
    {
     "data": {
      "text/html": [
       "<div>\n",
       "<style scoped>\n",
       "    .dataframe tbody tr th:only-of-type {\n",
       "        vertical-align: middle;\n",
       "    }\n",
       "\n",
       "    .dataframe tbody tr th {\n",
       "        vertical-align: top;\n",
       "    }\n",
       "\n",
       "    .dataframe thead th {\n",
       "        text-align: right;\n",
       "    }\n",
       "</style>\n",
       "<table border=\"1\" class=\"dataframe\">\n",
       "  <thead>\n",
       "    <tr style=\"text-align: right;\">\n",
       "      <th></th>\n",
       "      <th>apache_4a_hospital_death_prob</th>\n",
       "      <th>apache_4a_icu_death_prob</th>\n",
       "      <th>hospital_death</th>\n",
       "    </tr>\n",
       "  </thead>\n",
       "  <tbody>\n",
       "    <tr>\n",
       "      <td>count</td>\n",
       "      <td>83766.000000</td>\n",
       "      <td>83766.000000</td>\n",
       "      <td>91713.000000</td>\n",
       "    </tr>\n",
       "    <tr>\n",
       "      <td>mean</td>\n",
       "      <td>0.086787</td>\n",
       "      <td>0.043955</td>\n",
       "      <td>0.086302</td>\n",
       "    </tr>\n",
       "    <tr>\n",
       "      <td>std</td>\n",
       "      <td>0.247569</td>\n",
       "      <td>0.217341</td>\n",
       "      <td>0.280811</td>\n",
       "    </tr>\n",
       "    <tr>\n",
       "      <td>min</td>\n",
       "      <td>-1.000000</td>\n",
       "      <td>-1.000000</td>\n",
       "      <td>0.000000</td>\n",
       "    </tr>\n",
       "    <tr>\n",
       "      <td>25%</td>\n",
       "      <td>0.020000</td>\n",
       "      <td>0.010000</td>\n",
       "      <td>0.000000</td>\n",
       "    </tr>\n",
       "    <tr>\n",
       "      <td>50%</td>\n",
       "      <td>0.050000</td>\n",
       "      <td>0.020000</td>\n",
       "      <td>0.000000</td>\n",
       "    </tr>\n",
       "    <tr>\n",
       "      <td>75%</td>\n",
       "      <td>0.130000</td>\n",
       "      <td>0.060000</td>\n",
       "      <td>0.000000</td>\n",
       "    </tr>\n",
       "    <tr>\n",
       "      <td>max</td>\n",
       "      <td>0.990000</td>\n",
       "      <td>0.970000</td>\n",
       "      <td>1.000000</td>\n",
       "    </tr>\n",
       "  </tbody>\n",
       "</table>\n",
       "</div>"
      ],
      "text/plain": [
       "       apache_4a_hospital_death_prob  apache_4a_icu_death_prob  hospital_death\n",
       "count                   83766.000000              83766.000000    91713.000000\n",
       "mean                        0.086787                  0.043955        0.086302\n",
       "std                         0.247569                  0.217341        0.280811\n",
       "min                        -1.000000                 -1.000000        0.000000\n",
       "25%                         0.020000                  0.010000        0.000000\n",
       "50%                         0.050000                  0.020000        0.000000\n",
       "75%                         0.130000                  0.060000        0.000000\n",
       "max                         0.990000                  0.970000        1.000000"
      ]
     },
     "execution_count": 250,
     "metadata": {},
     "output_type": "execute_result"
    }
   ],
   "source": [
    "### 3.2 Understanding the APACHE 4 prediction values\n",
    "df[['apache_4a_hospital_death_prob','apache_4a_icu_death_prob', 'hospital_death']].describe()#sort_values(by='hospital_death', ascending = False)\n",
    "## some probabilistic prediction are negative??"
   ]
  },
  {
   "cell_type": "markdown",
   "metadata": {},
   "source": [
    "Some predictions are negative. One interpreation for negative probability could be that features underlying the APACHE probabilistic model may have missing values. Let us check:<br>\n",
    "Here is the logic:<br>\n",
    "if # observations with -1 == # observations with missing values in any one feature <br>\n",
    "then <br>\n",
    "probability prediction = -1"
   ]
  },
  {
   "cell_type": "code",
   "execution_count": 197,
   "metadata": {},
   "outputs": [
    {
     "name": "stdout",
     "output_type": "stream",
     "text": [
      "Hypothesis: Apache 4a in hospotal death prediction is -1 for observation with missing values\n",
      "# observation with -1 prediction: 2371\n",
      "Number of observations with missing values in any one feature: 2371\n",
      "Hypothesis: Apache 4a in ICU death prediction is -1 for observation with missing values\n",
      "# observation with -1 prediction: 2230\n",
      "Number of observations with missing values in any one feature: 2230\n"
     ]
    }
   ],
   "source": [
    "print(\"Hypothesis: Apache 4a in hospital death prediction is -1 for observation with missing values\")\n",
    "print(\"# observation with -1 prediction:\", df[df.apache_4a_hospital_death_prob == -1].shape[0])\n",
    "print(\"Number of observations with missing values in any one feature:\", df[df.apache_4a_hospital_death_prob == -1].isnull().any(axis=1).sum()\n",
    "     )\n",
    "print(\"Hypothesis: Apache 4a in ICU death prediction is -1 for observation with missing values\")\n",
    "print(\"# observation with -1 prediction:\", df[df.apache_4a_icu_death_prob == -1].shape[0])\n",
    "print(\"Number of observations with missing values in any one feature:\", df[df.apache_4a_icu_death_prob == -1].isnull().any(axis=1).sum())"
   ]
  },
  {
   "cell_type": "markdown",
   "metadata": {},
   "source": [
    "For both in hospital and in ICU, the assumption is True <br>\n",
    "    # observations with -1 == # observations with missing values in any one feature "
   ]
  },
  {
   "cell_type": "code",
   "execution_count": 252,
   "metadata": {},
   "outputs": [
    {
     "data": {
      "text/html": [
       "<div>\n",
       "<style scoped>\n",
       "    .dataframe tbody tr th:only-of-type {\n",
       "        vertical-align: middle;\n",
       "    }\n",
       "\n",
       "    .dataframe tbody tr th {\n",
       "        vertical-align: top;\n",
       "    }\n",
       "\n",
       "    .dataframe thead th {\n",
       "        text-align: right;\n",
       "    }\n",
       "</style>\n",
       "<table border=\"1\" class=\"dataframe\">\n",
       "  <thead>\n",
       "    <tr style=\"text-align: right;\">\n",
       "      <th></th>\n",
       "      <th>apache_4a_hospital_death_prob</th>\n",
       "      <th>apache_4a_icu_death_prob</th>\n",
       "      <th>hospital_death</th>\n",
       "    </tr>\n",
       "  </thead>\n",
       "  <tbody>\n",
       "    <tr>\n",
       "      <td>apache_4a_hospital_death_prob</td>\n",
       "      <td>1.000000</td>\n",
       "      <td>0.864118</td>\n",
       "      <td>0.481129</td>\n",
       "    </tr>\n",
       "    <tr>\n",
       "      <td>apache_4a_icu_death_prob</td>\n",
       "      <td>0.864118</td>\n",
       "      <td>1.000000</td>\n",
       "      <td>0.425696</td>\n",
       "    </tr>\n",
       "    <tr>\n",
       "      <td>hospital_death</td>\n",
       "      <td>0.481129</td>\n",
       "      <td>0.425696</td>\n",
       "      <td>1.000000</td>\n",
       "    </tr>\n",
       "  </tbody>\n",
       "</table>\n",
       "</div>"
      ],
      "text/plain": [
       "                               apache_4a_hospital_death_prob  \\\n",
       "apache_4a_hospital_death_prob                       1.000000   \n",
       "apache_4a_icu_death_prob                            0.864118   \n",
       "hospital_death                                      0.481129   \n",
       "\n",
       "                               apache_4a_icu_death_prob  hospital_death  \n",
       "apache_4a_hospital_death_prob                  0.864118        0.481129  \n",
       "apache_4a_icu_death_prob                       1.000000        0.425696  \n",
       "hospital_death                                 0.425696        1.000000  "
      ]
     },
     "execution_count": 252,
     "metadata": {},
     "output_type": "execute_result"
    },
    {
     "data": {
      "image/png": "[encoded data removed]",
      "text/plain": [
       "<Figure size 252x216 with 1 Axes>"
      ]
     },
     "metadata": {
      "needs_background": "light"
     },
     "output_type": "display_data"
    }
   ],
   "source": [
    "### dataframe with apache mortality prediction -1 and NAN removed\n",
    "## Dropping negative values\n",
    "## We know that there are 2371 rows with negative values for inhospital death\n",
    "df_mort_pred = df[['apache_4a_hospital_death_prob','apache_4a_icu_death_prob', 'hospital_death']].copy()\n",
    "df_mort_pred.drop(df_mort_pred[df_mort_pred.apache_4a_hospital_death_prob == -1].index, inplace = True)\n",
    "sns.FacetGrid(df_mort_pred, hue = \"hospital_death\").map(plt.scatter, \"apache_4a_hospital_death_prob\", \"apache_4a_icu_death_prob\").add_legend()\n",
    "df_mort_pred.corr()"
   ]
  },
  {
   "cell_type": "markdown",
   "metadata": {},
   "source": [
    "apache 4 predictions for in hospital mortality is linearly correlated with that of ICU mortality"
   ]
  },
  {
   "cell_type": "markdown",
   "metadata": {},
   "source": [
    "3.3 Understangin missing values"
   ]
  },
  {
   "cell_type": "code",
   "execution_count": 281,
   "metadata": {},
   "outputs": [
    {
     "name": "stdout",
     "output_type": "stream",
     "text": [
      "Number of features with missing values: 175\n",
      "Features without missing values Index(['encounter_id', 'patient_id', 'hospital_id', 'hospital_death',\n",
      "       'elective_surgery', 'icu_id', 'icu_stay_type', 'icu_type',\n",
      "       'pre_icu_los_days', 'readmission_status', 'apache_post_operative'],\n",
      "      dtype='object')\n",
      "Any observation with missing values for all features? False\n",
      "List of features with >90% data missing: ['h1_albumin_max', 'h1_albumin_min', 'h1_bilirubin_max', 'h1_bilirubin_min', 'h1_lactate_max', 'h1_lactate_min']\n"
     ]
    }
   ],
   "source": [
    "print(\"Number of features with missing values:\", sum(df.isna().sum() > 0))\n",
    "print(\"Features without missing values\",df.columns[~df.isnull().any()])\n",
    "print(\"Any observation with missing values for all features?\",df.loc[:, df.columns != 'hospital_death'].isnull().all(axis = 1).any())\n",
    "print(\"List of features with >90% data missing:\", list(df.columns[df.isna().sum()/df.shape[0] > 0.9]))"
   ]
  },
  {
   "cell_type": "markdown",
   "metadata": {},
   "source": [
    "- 175 features has missing values in it\n",
    "- Target feature \"hospital_death\" does not have missing value\n",
    "- These features has more than 90% of the data missing and thus, they will be removed from the dataset:'h1_albumin_max', 'h1_albumin_min', 'h1_bilirubin_max', 'h1_bilirubin_min', 'h1_lactate_max', 'h1_lactate_min'"
   ]
  },
  {
   "cell_type": "code",
   "execution_count": 304,
   "metadata": {},
   "outputs": [
    {
     "data": {
      "image/png": "[encoded data removed]",
      "text/plain": [
       "<Figure size 216x216 with 1 Axes>"
      ]
     },
     "metadata": {
      "needs_background": "light"
     },
     "output_type": "display_data"
    },
    {
     "data": {
      "image/png": "[encoded data removed]",
      "text/plain": [
       "<Figure size 216x216 with 1 Axes>"
      ]
     },
     "metadata": {
      "needs_background": "light"
     },
     "output_type": "display_data"
    },
    {
     "data": {
      "image/png": "[encoded data removed]",
      "text/plain": [
       "<Figure size 216x216 with 1 Axes>"
      ]
     },
     "metadata": {
      "needs_background": "light"
     },
     "output_type": "display_data"
    }
   ],
   "source": [
    "sns.FacetGrid(df, hue = \"hospital_death\").map(plt.scatter, \"h1_albumin_max\", \"h1_albumin_min\")\n",
    "plt.show()\n",
    "sns.FacetGrid(df, hue = \"hospital_death\").map(plt.scatter, \"h1_bilirubin_max\", \"h1_bilirubin_min\")\n",
    "plt.show()\n",
    "sns.FacetGrid(df, hue = \"hospital_death\").map(plt.scatter, \"h1_lactate_max\", \"h1_lactate_min\")\n",
    "plt.show()"
   ]
  },
  {
   "cell_type": "code",
   "execution_count": 8,
   "metadata": {},
   "outputs": [
    {
     "name": "stdout",
     "output_type": "stream",
     "text": [
      "Columns with <0.01 variance dropped ['readmission_status' 'gcs_unable_apache' 'ph_apache' 'd1_arterial_ph_max'\n",
      " 'aids' 'leukemia' 'lymphoma']\n",
      "--------- Object typed features ----------\n",
      "# Unique values in ethnicity is 6\n",
      "# Unique values in gender is 2\n",
      "# Unique values in hospital_admit_source is 15\n",
      "# Unique values in icu_admit_source is 5\n",
      "# Unique values in icu_stay_type is 3\n",
      "# Unique values in icu_type is 8\n",
      "# Unique values in apache_3j_bodysystem is 11\n",
      "# Unique values in apache_2_bodysystem is 10\n"
     ]
    }
   ],
   "source": [
    "################################################################\n",
    "######## Analysis\n",
    "### 1. Feature selection: checking for very low variance in the dataframe\n",
    "################################################################\n",
    "#Split numeric and categorical variables as variance\n",
    "df_numeric = df.select_dtypes(include = [float, int])\n",
    "df_object = df.select_dtypes(include = [object])\n",
    "\n",
    "###### Calculating variance for all numeric type feature and dropping fetaures with variance < 0.01\n",
    "print(\"Columns with <0.01 variance dropped\", df_numeric.columns[df_numeric.var() <=0.01].values)\n",
    "#df_numeric.var().sort_values()[0:7]\n",
    "df_feat_sel = df.drop(columns = df_numeric.columns[df_numeric.var() <0.01] )\n",
    "\n",
    "###### Calculating variance for all object type feature and dropping features with single value\n",
    "print(\"--------- Object typed features ----------\")\n",
    "for f in df_object:\n",
    "    print(\"# Unique values in {} is {}\".format(f, df_object[f].nunique()))"
   ]
  },
  {
   "cell_type": "markdown",
   "metadata": {},
   "source": [
    "* 7 numeric columns were dropped from the dataset as their variance is very small <.01. \n",
    "* All the object typed features in dataset have >1 unique values and thus they are not dropped"
   ]
  },
  {
   "cell_type": "code",
   "execution_count": 9,
   "metadata": {},
   "outputs": [
    {
     "name": "stdout",
     "output_type": "stream",
     "text": [
      "Number of features with missing values: 169\n",
      "For class type 1 or type 0, does any of the feature has all missing values?\n",
      "False\n",
      "Following features have >90% of the data missing and they will be deleted: Index(['h1_albumin_max', 'h1_albumin_min', 'h1_bilirubin_max',\n",
      "       'h1_bilirubin_min', 'h1_lactate_max', 'h1_lactate_min'],\n",
      "      dtype='object')\n"
     ]
    },
    {
     "data": {
      "text/plain": [
       "(91713, 173)"
      ]
     },
     "execution_count": 9,
     "metadata": {},
     "output_type": "execute_result"
    }
   ],
   "source": [
    "################################################################\n",
    "### 2. Understanding missing data and removing features with >90% of missing data\n",
    "################################################################\n",
    "print(\"Number of features with missing values:\", sum(df_feat_sel.isna().sum() > 0))\n",
    "#print(\"Features that do not have any missing values:\", df.columns[df.isna().sum() == 0])\n",
    "#print(\"Features with >90% of data missing:\", df.columns[(df.isna().sum()/df.shape[0])>0.90] )\n",
    "# - For class type 1 or type 0, does any of the feature has all missing values?\n",
    "print(\"For class type 1 or type 0, does any of the feature has all missing values?\")\n",
    "print(df_feat_sel.set_index('hospital_death').isna().all(level=0).any().any())\n",
    "# - List all the features that have >95% of the data missing -- drop it or if variance is high -- impoute it\n",
    "feat_very_low_var = df_feat_sel.columns[df_feat_sel.isna().sum()/df_feat_sel.shape[0] > 0.9]\n",
    "print(\"Following features have >90% of the data missing and they will be deleted:\",\n",
    "      feat_very_low_var)\n",
    "\n",
    "#df_90mis = df_feat_sel[['h1_albumin_max', 'h1_albumin_min', 'h1_bilirubin_max',\n",
    "#       'h1_bilirubin_min', 'h1_lactate_max', 'h1_lactate_min']]\n",
    "# df_90mis[df_90mis.notnull().any(axis=1)] # just to view this dataframe that has data\n",
    "df_feat_sel = df_feat_sel.drop(columns = feat_very_low_var)\n",
    "df_feat_sel.shape"
   ]
  },
  {
   "cell_type": "markdown",
   "metadata": {},
   "source": [
    "- Out of 186 features, 175 features have missing values in them. \n",
    "- More than 90% of the data is missing for 6 features and they are dropped\n",
    "- Missing values will be replaced with median of the feature in next few steps\n",
    "- All together, 13 features are dropped from the dataset: readmission_status', 'gcs_unable_apache', 'ph_apache', 'd1_arterial_ph_max', 'aids', 'leukemia', 'lymphoma', 'h1_albumin_max', 'h1_albumin_min', 'h1_bilirubin_max', 'h1_bilirubin_min', 'h1_lactate_max', 'h1_lactate_min'"
   ]
  },
  {
   "cell_type": "code",
   "execution_count": 10,
   "metadata": {},
   "outputs": [
    {
     "data": {
      "text/plain": [
       "(91713, 171)"
      ]
     },
     "execution_count": 10,
     "metadata": {},
     "output_type": "execute_result"
    }
   ],
   "source": [
    "df_feat_sel.nunique().sort_values(ascending = False)\n",
    "df_feat_sel = df_feat_sel.drop(columns = ['encounter_id', 'patient_id'])\n",
    "df_feat_sel.shape"
   ]
  },
  {
   "cell_type": "markdown",
   "metadata": {},
   "source": [
    "Features \"Encounter_id\" and \"Patient ID\" have unique values and thus they are dropped"
   ]
  },
  {
   "cell_type": "code",
   "execution_count": 11,
   "metadata": {},
   "outputs": [],
   "source": [
    "corr_matrix = df_feat_sel.corr()"
   ]
  },
  {
   "cell_type": "code",
   "execution_count": 12,
   "metadata": {},
   "outputs": [
    {
     "data": {
      "text/plain": [
       "<matplotlib.collections.PathCollection at 0x1a69185c10>"
      ]
     },
     "execution_count": 12,
     "metadata": {},
     "output_type": "execute_result"
    },
    {
     "data": {
      "image/png": "[encoded data removed]",
      "text/plain": [
       "<Figure size 432x288 with 1 Axes>"
      ]
     },
     "metadata": {
      "needs_background": "light"
     },
     "output_type": "display_data"
    }
   ],
   "source": [
    "plt.scatter(df_feat_sel.cirrhosis, df_feat_sel.hepatic_failure)\n",
    "#df_feat_sel[['cirrhosis', 'hepatic_failure']]"
   ]
  },
  {
   "cell_type": "markdown",
   "metadata": {},
   "source": [
    "- Cirrhosis and hepatic_failure are strongly linearly correlated"
   ]
  },
  {
   "cell_type": "code",
   "execution_count": 13,
   "metadata": {},
   "outputs": [
    {
     "data": {
      "text/plain": [
       "0    0.913698\n",
       "1    0.086302\n",
       "Name: hospital_death, dtype: float64"
      ]
     },
     "execution_count": 13,
     "metadata": {},
     "output_type": "execute_result"
    }
   ],
   "source": [
    "##########################################################\n",
    "#3. Is this a imbalanced dataset?\n",
    "##########################################################\n",
    "df_feat_sel.hospital_death.value_counts(normalize = True)"
   ]
  },
  {
   "cell_type": "markdown",
   "metadata": {},
   "source": [
    "This is a heavily imbalanced dataset with ~91% of the data belonging to \"0\" class or survived. To overcome this, we will use SMOTE technique to oversample the minority class. Before using SMOTE, we need to convert categorical variables to dummy variables"
   ]
  },
  {
   "cell_type": "code",
   "execution_count": 14,
   "metadata": {},
   "outputs": [
    {
     "name": "stdout",
     "output_type": "stream",
     "text": [
      "(73370, 170)\n",
      "(18343, 170)\n"
     ]
    }
   ],
   "source": [
    "##########################################################\n",
    "### 4. Split the features and target variable\n",
    "##########################################################\n",
    "y = df_feat_sel['hospital_death']\n",
    "X = df_feat_sel.drop(columns = ['hospital_death'])\n",
    "\n",
    "##########################################################\n",
    "## Split features and variables to train and test data set\n",
    "##########################################################\n",
    "X_train, X_test, y_train, y_test = train_test_split(X, y, test_size = 0.2, stratify = y)\n",
    "print(X_train.shape)\n",
    "print(X_test.shape)"
   ]
  },
  {
   "cell_type": "code",
   "execution_count": 15,
   "metadata": {},
   "outputs": [],
   "source": [
    "from sklearn.base import BaseEstimator, TransformerMixin\n",
    "\n",
    "class DataFrameSelector(BaseEstimator, TransformerMixin):\n",
    "    def __init__(self, attribute_names):\n",
    "        self.attribute_names = attribute_names\n",
    "    def fit(self, X, y = None):\n",
    "        return self\n",
    "    def transform(self, X):\n",
    "        return X[self.attribute_names].values"
   ]
  },
  {
   "cell_type": "code",
   "execution_count": 16,
   "metadata": {},
   "outputs": [],
   "source": [
    "#Building pipeline for input transformation\n",
    "\n",
    "num_attributes = X_train.select_dtypes(exclude = 'object').columns\n",
    "obj_attributes = X_train.select_dtypes(include = 'object').columns\n",
    "\n",
    "pipeline_num = Pipeline([('attributes',DataFrameSelector(num_attributes)),\n",
    "                          ('standardization', StandardScaler()), \n",
    "                         ('imputer', SimpleImputer(strategy = 'median'))])\n",
    "pipeline_obj = Pipeline([('attributes',DataFrameSelector(obj_attributes)),\n",
    "                         ('imputer', SimpleImputer(strategy = 'constant', fill_value = 'other')),\n",
    "                        ('onehotencode', OneHotEncoder(handle_unknown='ignore'))])\n",
    "\n",
    "pipeline_full = FeatureUnion(transformer_list=[(\"numerical_features\", pipeline_num),\n",
    "                                               (\"categorical_features\", pipeline_obj)])\n",
    "\n"
   ]
  },
  {
   "cell_type": "code",
   "execution_count": 17,
   "metadata": {},
   "outputs": [],
   "source": [
    "x_train = pipeline_full.fit_transform(X_train)\n",
    "x_test = pipeline_full.transform(X_test)"
   ]
  },
  {
   "cell_type": "code",
   "execution_count": 18,
   "metadata": {},
   "outputs": [
    {
     "name": "stdout",
     "output_type": "stream",
     "text": [
      "After oversampling, x_train shape is (134076, 228) and y_train shape is (134076,)\n"
     ]
    }
   ],
   "source": [
    "############################################################################\n",
    "## Oversampling datapoints with minority class to make it a balanced dataset\n",
    "############################################################################\n",
    "sm = SMOTE()\n",
    "X_train_os, y_train_os = sm.fit_resample(x_train, y_train)\n",
    "print(\"After oversampling, x_train shape is {} and y_train shape is {}\".format(X_train_os.shape, \n",
    "                                                                               y_train_os.shape))"
   ]
  },
  {
   "cell_type": "code",
   "execution_count": 99,
   "metadata": {},
   "outputs": [],
   "source": [
    "### Defininig functions for calculating Precision, Recall, F1-score and AUC for ROC and PRcurve\n",
    "\n",
    "### Run all models with default parameter and downselect one and fine tune it later\n",
    "def evaluate_model(model, train_data_x, train_data_y):\n",
    "    '''Returns the CV score of each model'''\n",
    "    return cross_val_score(model, train_data_x, train_data_y, scoring = 'roc_auc', cv = 5)\n",
    "\n",
    "def classification_metrics(model, test_data_x, test_data_y):\n",
    "    '''Returns metric for classification model in the form of tuple: (precision, recall, auc P-R, auc - ROC, confusion matrix)'''\n",
    "    predicted_test_data_y = model.predict(test_data_x)\n",
    "    predicted_test_data_y_prob = model.predict_proba(test_data_x)\n",
    "    precision = precision_score(test_data_y, predicted_test_data_y)\n",
    "    recall = recall_score(test_data_y, predicted_test_data_y)\n",
    "    precision_l, recall_l, threshold = precision_recall_curve(test_data_y, predicted_test_data_y_prob[:,1])\n",
    "    auc_pr = auc(recall_l, precision_l)\n",
    "    auc_roc = roc_auc_score(test_data_y, predicted_test_data_y_prob[:,1])\n",
    "    cm = confusion_matrix(test_data_y, predicted_test_data_y)     \n",
    "    ll = log_loss(test_data_y, predicted_test_data_y)\n",
    "    return (precision, recall, auc_pr, auc_roc, cm, ll)\n",
    "#def custom_pr_auc(y_true, y_pred):\n",
    "#    p, r, thrshld = precision_recall_curve(test_data_y, predicted_test_data_y_prob[:,1])\n",
    "#    auc_pr = auc(r, p)\n",
    "#    return auc_pr\n",
    "\n",
    "#pr_auc = make_scorer(auc(precision_recall_curve()[1],auc(precision_recall_curve()[0]),\n",
    "#                     greater_is_better=True, needs_proba=False, needs_threshold=False, **kwargs)\n",
    "\n",
    "scoring = {'acc': 'accuracy', 'prec': 'precision', 'rec': 'recall', \n",
    "          'roc':'roc_auc'}\n"
   ]
  },
  {
   "cell_type": "code",
   "execution_count": 20,
   "metadata": {},
   "outputs": [],
   "source": [
    "#### Modelling: KNN\n",
    "## Logistic regression with balanced data - oversampling and unweighted model\n",
    "#knn_os = knn()\n",
    "#knn_os.fit(X_train_os, y_train_os)\n",
    "#knn_os.score(x_test, y_test)\n",
    "#knn_os_cv = cross_val_score(knn_os, X_train_os, y_train_os, scoring = \"f1\", cv = 2)\n",
    "#print(\"Averge CV score for KNN is {%3f} +- {%3f}\".format(lr_os_cv.mean(), lr_os_cv.std()))\n",
    "\n",
    "# Test data and metrics\n",
    "#knn_os.fit(X_train_os, y_train_os)\n",
    "#classification_metrics(lr_os,x_test, y_test)"
   ]
  },
  {
   "cell_type": "code",
   "execution_count": 84,
   "metadata": {},
   "outputs": [
    {
     "name": "stdout",
     "output_type": "stream",
     "text": [
      "Precision: 0.0841385300184562 \n",
      " Recall: 0.4895767530006317 \n",
      " P-R AUC: 0.3088823920955986 \n",
      " ROC-AUC:  0.49311773210890775 \n",
      " Confusion Matrix:  [[8324 8436]\n",
      " [ 808  775]] \n",
      "\n"
     ]
    }
   ],
   "source": [
    "#### Modelling: DummyClassifier for reference\n",
    "dummy = DummyClassifier(random_state=42)\n",
    "dummy_os = cross_validate(dummy, X_train_os, y_train_os, scoring=scoring,\n",
    "                         cv=3, return_train_score=True)\n",
    "dummy.fit(X_train_os, y_train_os)\n",
    "print(\"Precision: {0[0]} \\n Recall: {0[1]} \\n P-R AUC: {0[2]} \\n ROC-AUC:  {0[3]} \\n Confusion Matrix:  {0[4]} \\n\".format(classification_metrics(dummy,x_test, y_test)))\n",
    "#classification_metrics(dummy,x_test, y_test)"
   ]
  },
  {
   "cell_type": "markdown",
   "metadata": {},
   "source": [
    "Dummy classifier's metrics are as shown above. If any of our model's ROC-AUC is similar to 0.5, then it is a no-skill classifier"
   ]
  },
  {
   "cell_type": "code",
   "execution_count": 102,
   "metadata": {},
   "outputs": [],
   "source": [
    "alpha = [10 ** x for x in range(-5, 2)]"
   ]
  },
  {
   "cell_type": "code",
   "execution_count": 109,
   "metadata": {},
   "outputs": [
    {
     "name": "stderr",
     "output_type": "stream",
     "text": [
      "/opt/anaconda3/lib/python3.7/site-packages/sklearn/model_selection/_split.py:1978: FutureWarning: The default value of cv will change from 3 to 5 in version 0.22. Specify it explicitly to silence this warning.\n",
      "  warnings.warn(CV_WARNING, FutureWarning)\n"
     ]
    },
    {
     "name": "stdout",
     "output_type": "stream",
     "text": [
      "Alpha:  1e-05 Log loss:  (0.2641629535327817, 0.786481364497789, 0.49689687852356174, 0.874643738588855, array([[13292,  3468],\n",
      "       [  338,  1245]]), 7.166622469766014)\n"
     ]
    },
    {
     "name": "stderr",
     "output_type": "stream",
     "text": [
      "/opt/anaconda3/lib/python3.7/site-packages/sklearn/model_selection/_split.py:1978: FutureWarning: The default value of cv will change from 3 to 5 in version 0.22. Specify it explicitly to silence this warning.\n",
      "  warnings.warn(CV_WARNING, FutureWarning)\n"
     ]
    },
    {
     "name": "stdout",
     "output_type": "stream",
     "text": [
      "Alpha:  0.0001 Log loss:  (0.26454468802698144, 0.7927984838913456, 0.5030981477929198, 0.8769915510412694, array([[13271,  3489],\n",
      "       [  328,  1255]]), 7.187335729968273)\n"
     ]
    },
    {
     "name": "stderr",
     "output_type": "stream",
     "text": [
      "/opt/anaconda3/lib/python3.7/site-packages/sklearn/model_selection/_split.py:1978: FutureWarning: The default value of cv will change from 3 to 5 in version 0.22. Specify it explicitly to silence this warning.\n",
      "  warnings.warn(CV_WARNING, FutureWarning)\n"
     ]
    },
    {
     "name": "stdout",
     "output_type": "stream",
     "text": [
      "Alpha:  0.001 Log loss:  (0.27262954203397116, 0.801010739102969, 0.51104940106597, 0.8811157329441545, array([[13377,  3383],\n",
      "       [  315,  1268]]), 6.963261197540536)\n"
     ]
    },
    {
     "name": "stderr",
     "output_type": "stream",
     "text": [
      "/opt/anaconda3/lib/python3.7/site-packages/sklearn/model_selection/_split.py:1978: FutureWarning: The default value of cv will change from 3 to 5 in version 0.22. Specify it explicitly to silence this warning.\n",
      "  warnings.warn(CV_WARNING, FutureWarning)\n"
     ]
    },
    {
     "name": "stdout",
     "output_type": "stream",
     "text": [
      "Alpha:  0.01 Log loss:  (0.27412044031944743, 0.8022741629816803, 0.5117866911106052, 0.8809723539335753, array([[13397,  3363],\n",
      "       [  313,  1270]]), 6.921835636147273)\n"
     ]
    },
    {
     "name": "stderr",
     "output_type": "stream",
     "text": [
      "/opt/anaconda3/lib/python3.7/site-packages/sklearn/model_selection/_split.py:1978: FutureWarning: The default value of cv will change from 3 to 5 in version 0.22. Specify it explicitly to silence this warning.\n",
      "  warnings.warn(CV_WARNING, FutureWarning)\n"
     ]
    },
    {
     "name": "stdout",
     "output_type": "stream",
     "text": [
      "Alpha:  0.1 Log loss:  (0.2711101585940849, 0.799115603284902, 0.5004484061951087, 0.8767627250756471, array([[13359,  3401],\n",
      "       [  318,  1265]]), 7.002803731316193)\n"
     ]
    },
    {
     "name": "stderr",
     "output_type": "stream",
     "text": [
      "/opt/anaconda3/lib/python3.7/site-packages/sklearn/model_selection/_split.py:1978: FutureWarning: The default value of cv will change from 3 to 5 in version 0.22. Specify it explicitly to silence this warning.\n",
      "  warnings.warn(CV_WARNING, FutureWarning)\n"
     ]
    },
    {
     "name": "stdout",
     "output_type": "stream",
     "text": [
      "Alpha:  1 Log loss:  (0.2567033880690085, 0.7801642451042324, 0.4694693335130113, 0.8623928991959618, array([[13184,  3576],\n",
      "       [  348,  1235]]), 7.388814148941825)\n"
     ]
    },
    {
     "name": "stderr",
     "output_type": "stream",
     "text": [
      "/opt/anaconda3/lib/python3.7/site-packages/sklearn/model_selection/_split.py:1978: FutureWarning: The default value of cv will change from 3 to 5 in version 0.22. Specify it explicitly to silence this warning.\n",
      "  warnings.warn(CV_WARNING, FutureWarning)\n"
     ]
    },
    {
     "name": "stdout",
     "output_type": "stream",
     "text": [
      "Alpha:  10 Log loss:  (0.2365528072241853, 0.7612128869235628, 0.4416727793885975, 0.8422223671256504, array([[12871,  3889],\n",
      "       [  378,  1205]]), 8.034676362181209)\n"
     ]
    }
   ],
   "source": [
    "#### Modelling: Logistic Regression with regularization via SGD\n",
    "#roc_metric = []\n",
    "log_loss_metric = []\n",
    "\n",
    "for i in alpha:\n",
    "    sgd = SGDClassifier(alpha = i, loss = 'log', random_state=42)\n",
    "    sgd_os = cross_validate(sgd, X_train_os, y_train_os, scoring=scoring,\n",
    "                         cv=3, return_train_score=True)\n",
    "    sgd.fit(X_train_os, y_train_os)\n",
    "    sgd_cal = CalibratedClassifierCV(sgd)\n",
    "    sgd_cal.fit(X_train_os, y_train_os)\n",
    "    #roc_metric.append(classification_metrics(sgd_cal,x_test, y_test)[-3])\n",
    "    log_loss_metric.append(classification_metrics(sgd_cal,x_test, y_test)[-1])\n",
    "    print(\"Alpha: \", i, \"Log loss: \", classification_metrics(sgd_cal,x_test, y_test))\n",
    "    #print(\"Precision: {0[0]} \\n Recall: {0[1]} \\n P-R AUC: {0[2]} \\n ROC-AUC:  {0[3]} \\n Confusion Matrix:  {0[4]} \\n\".format(classification_metrics(sgd,x_test, y_test)))"
   ]
  },
  {
   "cell_type": "code",
   "execution_count": 134,
   "metadata": {},
   "outputs": [
    {
     "name": "stdout",
     "output_type": "stream",
     "text": [
      "----------Cross-Validate results----------\n",
      "{'fit_time': array([0.465276  , 0.43983722, 0.43284607]), 'score_time': array([0.47356105, 0.44723082, 0.44215202]), 'test_acc': array([0.73326322, 0.74668845, 0.74326501]), 'train_acc': array([0.73966258, 0.74601718, 0.74441735]), 'test_prec': array([0.6916149 , 0.73941368, 0.71029014]), 'train_prec': array([0.69635917, 0.73572164, 0.7113067 ]), 'test_rec': array([0.84194039, 0.76188132, 0.82166831]), 'train_rec': array([0.8499284 , 0.76785554, 0.8227647 ]), 'test_roc': array([0.81083711, 0.81191894, 0.81081737]), 'train_roc': array([0.81467915, 0.81240982, 0.81160584])}\n"
     ]
    },
    {
     "name": "stderr",
     "output_type": "stream",
     "text": [
      "/opt/anaconda3/lib/python3.7/site-packages/sklearn/model_selection/_split.py:1978: FutureWarning: The default value of cv will change from 3 to 5 in version 0.22. Specify it explicitly to silence this warning.\n",
      "  warnings.warn(CV_WARNING, FutureWarning)\n"
     ]
    },
    {
     "name": "stdout",
     "output_type": "stream",
     "text": [
      "Log loss:  10.652028386948396\n"
     ]
    }
   ],
   "source": [
    "#### Modelling: Multinomial Naive Bayes\n",
    "#roc_metric = []\n",
    "#ls = [0.00001, 0.0001, 0.001, 0.1, 1, 10, 100,1000]\n",
    "#log_loss_metric_nb = []\n",
    "#for i in ls:\n",
    "nb = GaussianNB()\n",
    "nb_os = cross_validate(nb, X_train_os.toarray(), y_train_os, scoring=scoring,\n",
    "                         cv=3, return_train_score=True)\n",
    "print(\"-\"*10 + \"Cross-Validate results\" + \"-\"*10)\n",
    "print(nb_os)\n",
    "nb.fit(X_train_os.toarray(), y_train_os)\n",
    "nb_cal = CalibratedClassifierCV(nb)\n",
    "nb_cal.fit(X_train_os.toarray(), y_train_os)\n",
    "    #roc_metric.append(classification_metrics(sgd_cal,x_test, y_test)[-3])\n",
    "#    log_loss_metric_nb.append(classification_metrics(nb_cal,x_test, y_test)[-1])\n",
    "print(\"Log loss: \", classification_metrics(nb_cal,x_test.toarray(), y_test)[-1])\n",
    "    #print(\"Precision: {0[0]} \\n Recall: {0[1]} \\n P-R AUC: {0[2]} \\n ROC-AUC:  {0[3]} \\n Confusion Matrix:  {0[4]} \\n\".format(classification_metrics(sgd,x_test, y_test)))"
   ]
  },
  {
   "cell_type": "code",
   "execution_count": 28,
   "metadata": {},
   "outputs": [
    {
     "name": "stderr",
     "output_type": "stream",
     "text": [
      "/opt/anaconda3/lib/python3.7/site-packages/sklearn/linear_model/logistic.py:432: FutureWarning: Default solver will be changed to 'lbfgs' in 0.22. Specify a solver to silence this warning.\n",
      "  FutureWarning)\n"
     ]
    },
    {
     "data": {
      "text/plain": [
       "(0.26956894702980916,\n",
       " 0.7940619077700568,\n",
       " 0.5083974964846747,\n",
       " 0.8788855938016847,\n",
       " array([[13354,  3406],\n",
       "        [  326,  1257]]))"
      ]
     },
     "execution_count": 28,
     "metadata": {},
     "output_type": "execute_result"
    }
   ],
   "source": [
    "#### Modelling: Logistic Regression\n",
    "## Logistic regression with balanced data - oversampling and unweighted model\n",
    "lr_os = LogisticRegression(penalty = 'l1', C = 0.8)\n",
    "lr_os_cv = cross_validate(lr_os, X_train_os, y_train_os, scoring=scoring,\n",
    "                         cv=3, return_train_score=True)\n",
    "# = cross_val_score(lr_os, X_train_os, y_train_os, scoring = \"f1\", cv = 3)\n",
    "#print(\"Averge CV score for Logistic Regression is {} +- {}\".format(lr_os_cv.mean(), lr_os_cv.std()))\n",
    "\n",
    "# Test data and metrics\n",
    "lr_os.fit(X_train_os, y_train_os)\n",
    "classification_metrics(lr_os,x_test, y_test)"
   ]
  },
  {
   "cell_type": "code",
   "execution_count": 137,
   "metadata": {},
   "outputs": [
    {
     "name": "stderr",
     "output_type": "stream",
     "text": [
      "/opt/anaconda3/lib/python3.7/site-packages/sklearn/model_selection/_split.py:1978: FutureWarning: The default value of cv will change from 3 to 5 in version 0.22. Specify it explicitly to silence this warning.\n",
      "  warnings.warn(CV_WARNING, FutureWarning)\n"
     ]
    },
    {
     "name": "stdout",
     "output_type": "stream",
     "text": [
      "Alpha:  1e-05 Log loss:  (0.26098729431368467, 0.7915350600126342, 0.4694994946929005, 0.8669030058331587, array([[13212,  3548],\n",
      "       [  330,  1253]]), 7.302197668382814)\n"
     ]
    },
    {
     "name": "stderr",
     "output_type": "stream",
     "text": [
      "/opt/anaconda3/lib/python3.7/site-packages/sklearn/model_selection/_split.py:1978: FutureWarning: The default value of cv will change from 3 to 5 in version 0.22. Specify it explicitly to silence this warning.\n",
      "  warnings.warn(CV_WARNING, FutureWarning)\n"
     ]
    },
    {
     "name": "stdout",
     "output_type": "stream",
     "text": [
      "Alpha:  0.0001 Log loss:  (0.2693947144075021, 0.7984838913455464, 0.5001739922665726, 0.8778242725135955, array([[13332,  3428],\n",
      "       [  319,  1264]]), 7.055527240457997)\n"
     ]
    },
    {
     "name": "stderr",
     "output_type": "stream",
     "text": [
      "/opt/anaconda3/lib/python3.7/site-packages/sklearn/model_selection/_split.py:1978: FutureWarning: The default value of cv will change from 3 to 5 in version 0.22. Specify it explicitly to silence this warning.\n",
      "  warnings.warn(CV_WARNING, FutureWarning)\n"
     ]
    },
    {
     "name": "stdout",
     "output_type": "stream",
     "text": [
      "Alpha:  0.001 Log loss:  (0.27212341975573173, 0.8022741629816803, 0.5084055377635498, 0.8810413673322005, array([[13363,  3397],\n",
      "       [  313,  1270]]), 6.985857093037618)\n"
     ]
    },
    {
     "name": "stderr",
     "output_type": "stream",
     "text": [
      "/opt/anaconda3/lib/python3.7/site-packages/sklearn/svm/base.py:929: ConvergenceWarning: Liblinear failed to converge, increase the number of iterations.\n",
      "  \"the number of iterations.\", ConvergenceWarning)\n",
      "/opt/anaconda3/lib/python3.7/site-packages/sklearn/model_selection/_split.py:1978: FutureWarning: The default value of cv will change from 3 to 5 in version 0.22. Specify it explicitly to silence this warning.\n",
      "  warnings.warn(CV_WARNING, FutureWarning)\n",
      "/opt/anaconda3/lib/python3.7/site-packages/sklearn/svm/base.py:929: ConvergenceWarning: Liblinear failed to converge, increase the number of iterations.\n",
      "  \"the number of iterations.\", ConvergenceWarning)\n",
      "/opt/anaconda3/lib/python3.7/site-packages/sklearn/svm/base.py:929: ConvergenceWarning: Liblinear failed to converge, increase the number of iterations.\n",
      "  \"the number of iterations.\", ConvergenceWarning)\n",
      "/opt/anaconda3/lib/python3.7/site-packages/sklearn/svm/base.py:929: ConvergenceWarning: Liblinear failed to converge, increase the number of iterations.\n",
      "  \"the number of iterations.\", ConvergenceWarning)\n"
     ]
    },
    {
     "name": "stdout",
     "output_type": "stream",
     "text": [
      "Alpha:  0.01 Log loss:  (0.270229663017815, 0.7953253316487682, 0.5060736275577518, 0.8808506476178127, array([[13360,  3400],\n",
      "       [  324,  1259]]), 7.012218389898601)\n"
     ]
    },
    {
     "name": "stderr",
     "output_type": "stream",
     "text": [
      "/opt/anaconda3/lib/python3.7/site-packages/sklearn/svm/base.py:929: ConvergenceWarning: Liblinear failed to converge, increase the number of iterations.\n",
      "  \"the number of iterations.\", ConvergenceWarning)\n",
      "/opt/anaconda3/lib/python3.7/site-packages/sklearn/model_selection/_split.py:1978: FutureWarning: The default value of cv will change from 3 to 5 in version 0.22. Specify it explicitly to silence this warning.\n",
      "  warnings.warn(CV_WARNING, FutureWarning)\n",
      "/opt/anaconda3/lib/python3.7/site-packages/sklearn/svm/base.py:929: ConvergenceWarning: Liblinear failed to converge, increase the number of iterations.\n",
      "  \"the number of iterations.\", ConvergenceWarning)\n",
      "/opt/anaconda3/lib/python3.7/site-packages/sklearn/svm/base.py:929: ConvergenceWarning: Liblinear failed to converge, increase the number of iterations.\n",
      "  \"the number of iterations.\", ConvergenceWarning)\n",
      "/opt/anaconda3/lib/python3.7/site-packages/sklearn/svm/base.py:929: ConvergenceWarning: Liblinear failed to converge, increase the number of iterations.\n",
      "  \"the number of iterations.\", ConvergenceWarning)\n"
     ]
    },
    {
     "name": "stdout",
     "output_type": "stream",
     "text": [
      "Alpha:  0.1 Log loss:  (0.26993996569468265, 0.7953253316487682, 0.5037086057399762, 0.8797250620781363, array([[13355,  3405],\n",
      "       [  324,  1259]]), 7.021633310029535)\n"
     ]
    },
    {
     "name": "stderr",
     "output_type": "stream",
     "text": [
      "/opt/anaconda3/lib/python3.7/site-packages/sklearn/svm/base.py:929: ConvergenceWarning: Liblinear failed to converge, increase the number of iterations.\n",
      "  \"the number of iterations.\", ConvergenceWarning)\n",
      "/opt/anaconda3/lib/python3.7/site-packages/sklearn/model_selection/_split.py:1978: FutureWarning: The default value of cv will change from 3 to 5 in version 0.22. Specify it explicitly to silence this warning.\n",
      "  warnings.warn(CV_WARNING, FutureWarning)\n",
      "/opt/anaconda3/lib/python3.7/site-packages/sklearn/svm/base.py:929: ConvergenceWarning: Liblinear failed to converge, increase the number of iterations.\n",
      "  \"the number of iterations.\", ConvergenceWarning)\n",
      "/opt/anaconda3/lib/python3.7/site-packages/sklearn/svm/base.py:929: ConvergenceWarning: Liblinear failed to converge, increase the number of iterations.\n",
      "  \"the number of iterations.\", ConvergenceWarning)\n",
      "/opt/anaconda3/lib/python3.7/site-packages/sklearn/svm/base.py:929: ConvergenceWarning: Liblinear failed to converge, increase the number of iterations.\n",
      "  \"the number of iterations.\", ConvergenceWarning)\n"
     ]
    },
    {
     "name": "stdout",
     "output_type": "stream",
     "text": [
      "Alpha:  1 Log loss:  (0.27009646302250806, 0.7959570435881238, 0.504082519669376, 0.87945515222147, array([[13355,  3405],\n",
      "       [  323,  1260]]), 7.019750369594768)\n"
     ]
    },
    {
     "name": "stderr",
     "output_type": "stream",
     "text": [
      "/opt/anaconda3/lib/python3.7/site-packages/sklearn/svm/base.py:929: ConvergenceWarning: Liblinear failed to converge, increase the number of iterations.\n",
      "  \"the number of iterations.\", ConvergenceWarning)\n",
      "/opt/anaconda3/lib/python3.7/site-packages/sklearn/model_selection/_split.py:1978: FutureWarning: The default value of cv will change from 3 to 5 in version 0.22. Specify it explicitly to silence this warning.\n",
      "  warnings.warn(CV_WARNING, FutureWarning)\n",
      "/opt/anaconda3/lib/python3.7/site-packages/sklearn/svm/base.py:929: ConvergenceWarning: Liblinear failed to converge, increase the number of iterations.\n",
      "  \"the number of iterations.\", ConvergenceWarning)\n",
      "/opt/anaconda3/lib/python3.7/site-packages/sklearn/svm/base.py:929: ConvergenceWarning: Liblinear failed to converge, increase the number of iterations.\n",
      "  \"the number of iterations.\", ConvergenceWarning)\n"
     ]
    },
    {
     "name": "stdout",
     "output_type": "stream",
     "text": [
      "Alpha:  10 Log loss:  (0.2650551314673452, 0.7896399241945673, 0.4782969208206682, 0.8715017632150672, array([[13294,  3466],\n",
      "       [  333,  1250]]), 7.153441799539809)\n"
     ]
    },
    {
     "name": "stderr",
     "output_type": "stream",
     "text": [
      "/opt/anaconda3/lib/python3.7/site-packages/sklearn/svm/base.py:929: ConvergenceWarning: Liblinear failed to converge, increase the number of iterations.\n",
      "  \"the number of iterations.\", ConvergenceWarning)\n"
     ]
    }
   ],
   "source": [
    "#### Modelling: SVM\n",
    "#roc_metric = []\n",
    "log_loss_metric_svm = []\n",
    "\n",
    "for i in alpha:\n",
    "    svm = LinearSVC(C = i, loss = 'hinge')\n",
    "    svm_os = cross_validate(sgd, X_train_os, y_train_os, scoring=scoring,\n",
    "                         cv=3, return_train_score=True)\n",
    "    svm.fit(X_train_os, y_train_os)\n",
    "    svm_cal = CalibratedClassifierCV(svm)\n",
    "    svm_cal.fit(X_train_os, y_train_os)\n",
    "    #roc_metric.append(classification_metrics(sgd_cal,x_test, y_test)[-3])\n",
    "    log_loss_metric.append(classification_metrics(svm_cal,x_test, y_test)[-1])\n",
    "    print(\"Alpha: \", i, \"Log loss: \", classification_metrics(svm_cal,x_test, y_test))\n",
    "    #print(\"Precision: {0[0]} \\n Recall: {0[1]} \\n P-R AUC: {0[2]} \\n ROC-AUC:  {0[3]} \\n Confusion Matrix:  {0[4]} \\n\".format(classification_metrics(sgd,x_test, y_test)))"
   ]
  },
  {
   "cell_type": "code",
   "execution_count": 27,
   "metadata": {},
   "outputs": [
    {
     "data": {
      "text/plain": [
       "{'fit_time': array([66.63778806, 29.57610178, 32.0850749 ]),\n",
       " 'score_time': array([0.08176494, 0.08106899, 0.08009696]),\n",
       " 'test_acc': array([0.79933769, 0.79739103, 0.79965094]),\n",
       " 'train_acc': array([0.80093753, 0.80047883, 0.80041171]),\n",
       " 'test_prec': array([0.8017957 , 0.80183495, 0.80059257]),\n",
       " 'train_prec': array([0.80205269, 0.80346651, 0.80331646]),\n",
       " 'test_rec': array([0.79526537, 0.79002954, 0.79808467]),\n",
       " 'train_rec': array([0.79909156, 0.79555625, 0.79562338]),\n",
       " 'test_roc': array([0.88411199, 0.88299316, 0.88547396]),\n",
       " 'train_roc': array([0.88555102, 0.88634215, 0.88500154])}"
      ]
     },
     "execution_count": 27,
     "metadata": {},
     "output_type": "execute_result"
    }
   ],
   "source": [
    "lr_os_cv"
   ]
  },
  {
   "cell_type": "code",
   "execution_count": 29,
   "metadata": {},
   "outputs": [
    {
     "name": "stdout",
     "output_type": "stream",
     "text": [
      "Train and val CV score for Random Forest is: {'fit_time': array([230.53866005, 273.9014318 , 274.49361897]), 'score_time': array([4.63018894, 4.72947216, 4.693434  ]), 'test_acc': array([0.92211134, 0.97384319, 0.97596885]), 'train_acc': array([1., 1., 1.]), 'test_prec': array([0.98309859, 0.95356607, 0.95695137]), 'train_prec': array([1., 1., 1.]), 'test_rec': array([0.85899042, 0.99619619, 0.99677795]), 'train_rec': array([1., 1., 1.]), 'test_roc': array([0.988698  , 0.99864887, 0.99885933]), 'train_roc': array([1., 1., 1.])}\n"
     ]
    },
    {
     "data": {
      "text/plain": [
       "(0.5630712979890311,\n",
       " 0.3891345546430828,\n",
       " 0.48421028082040307,\n",
       " 0.8892461219068354,\n",
       " array([[16282,   478],\n",
       "        [  967,   616]]))"
      ]
     },
     "execution_count": 29,
     "metadata": {},
     "output_type": "execute_result"
    }
   ],
   "source": [
    "#### Modelling: Random Forest\n",
    "## Randomforest\n",
    "rf_os = RandomForestClassifier(n_estimators = 300, n_jobs = -1, random_state = 0)\n",
    "rf_os_cv = cross_validate(rf_os, X_train_os, y_train_os, scoring=scoring,\n",
    "                         cv=3, return_train_score=True)\n",
    "\n",
    "print(\"Train and val CV score for Random Forest is:\",rf_os_cv)\n",
    "\n",
    "# Test data and metrics\n",
    "rf_os.fit(X_train_os, y_train_os)\n",
    "classification_metrics(rf_os,x_test, y_test)"
   ]
  },
  {
   "cell_type": "code",
   "execution_count": 35,
   "metadata": {},
   "outputs": [
    {
     "name": "stdout",
     "output_type": "stream",
     "text": [
      "fit_time 42.76632157961527\n",
      "score_time 0.08097696304321289\n",
      "test_acc 0.7987932217548256\n",
      "train_acc 0.8006093558877055\n",
      "test_prec 0.801407738820166\n",
      "train_prec 0.8029452206563928\n",
      "test_rec 0.7944598585876667\n",
      "train_rec 0.7967570631582088\n",
      "test_roc 0.8841930334815707\n",
      "train_roc 0.8856315708263232\n"
     ]
    }
   ],
   "source": [
    "for i in lr_os_cv.keys():\n",
    "    print(i, lr_os_cv[i].mean())"
   ]
  },
  {
   "cell_type": "code",
   "execution_count": 145,
   "metadata": {},
   "outputs": [
    {
     "name": "stdout",
     "output_type": "stream",
     "text": [
      "Precision: 0.27189862160960426\n",
      "Recall: 0.7725837018319647\n",
      "Confusion matrix: [[13485  3275]\n",
      " [  360  1223]]\n"
     ]
    },
    {
     "data": {
      "image/png": "[encoded data removed]",
      "text/plain": [
       "<Figure size 432x288 with 1 Axes>"
      ]
     },
     "metadata": {
      "needs_background": "light"
     },
     "output_type": "display_data"
    },
    {
     "data": {
      "image/png": "[encoded data removed]",
      "text/plain": [
       "<Figure size 432x288 with 1 Axes>"
      ]
     },
     "metadata": {
      "needs_background": "light"
     },
     "output_type": "display_data"
    },
    {
     "name": "stdout",
     "output_type": "stream",
     "text": [
      "Area unde the curve for Precision-Recall Curve: 0.4989075844856886\n"
     ]
    },
    {
     "data": {
      "image/png": "[encoded data removed]",
      "text/plain": [
       "<Figure size 432x288 with 1 Axes>"
      ]
     },
     "metadata": {
      "needs_background": "light"
     },
     "output_type": "display_data"
    }
   ],
   "source": [
    "## Logistic regression with balanced data - oversampling and unweighted model\n",
    "#lr_os.fit(X_train_os, y_train_os)\n",
    "x_test = pipeline_full.transform(X_test)\n",
    "\n",
    "lr_os_predict= lr_os.predict(x_test)\n",
    "lr_os_predict_prob = lr_os.predict_proba(x_test)\n",
    "print(\"Precision:\",precision_score(y_test,lr_os_predict))\n",
    "print(\"Recall:\", recall_score(y_test,lr_os_predict))\n",
    "print(\"Confusion matrix:\", confusion_matrix(y_test,lr_os_predict))\n",
    "fpr, tpr, threshold = roc_curve(y_test,lr_os_predict_prob[:,1])\n",
    "plt.plot(fpr,tpr, marker='.')\n",
    "plt.xlabel(\"False positive rate\")\n",
    "plt.ylabel(\"True positive rate\")\n",
    "plt.show()\n",
    "precision, recall, threshold = precision_recall_curve(y_test,lr_os_predict_prob[:,1])\n",
    "plt.plot(recall, precision)\n",
    "#plt.axhline(y=0.086302, linestyle='--', color = 'red')\n",
    "plt.xlabel(\"Recall\")\n",
    "plt.ylabel(\"Precision\")\n",
    "plt.grid()\n",
    "plt.show()\n",
    "plt.plot(threshold, recall[1:], marker = '.', label = \"Recall\")\n",
    "plt.plot(threshold, precision[1:], marker = 'o', label = \"Precision\")\n",
    "plt.legend()\n",
    "plt.grid()\n",
    "print(\"Area unde the curve for Precision-Recall Curve:\", auc(recall, precision))"
   ]
  },
  {
   "cell_type": "code",
   "execution_count": 79,
   "metadata": {},
   "outputs": [
    {
     "name": "stderr",
     "output_type": "stream",
     "text": [
      "/opt/anaconda3/lib/python3.7/site-packages/sklearn/linear_model/logistic.py:432: FutureWarning: Default solver will be changed to 'lbfgs' in 0.22. Specify a solver to silence this warning.\n",
      "  FutureWarning)\n",
      "/opt/anaconda3/lib/python3.7/site-packages/sklearn/linear_model/logistic.py:432: FutureWarning: Default solver will be changed to 'lbfgs' in 0.22. Specify a solver to silence this warning.\n",
      "  FutureWarning)\n",
      "/opt/anaconda3/lib/python3.7/site-packages/sklearn/linear_model/logistic.py:432: FutureWarning: Default solver will be changed to 'lbfgs' in 0.22. Specify a solver to silence this warning.\n",
      "  FutureWarning)\n",
      "/opt/anaconda3/lib/python3.7/site-packages/sklearn/linear_model/logistic.py:432: FutureWarning: Default solver will be changed to 'lbfgs' in 0.22. Specify a solver to silence this warning.\n",
      "  FutureWarning)\n",
      "/opt/anaconda3/lib/python3.7/site-packages/sklearn/linear_model/logistic.py:432: FutureWarning: Default solver will be changed to 'lbfgs' in 0.22. Specify a solver to silence this warning.\n",
      "  FutureWarning)\n"
     ]
    },
    {
     "name": "stdout",
     "output_type": "stream",
     "text": [
      "Averge CV score for Logistic Regression is 0.8826699145865946 +- 0.003392168526368627\n"
     ]
    }
   ],
   "source": [
    "## Logistic regression with imbalanced data and unweighted modelling\n",
    "lr = LogisticRegression(penalty = 'l1', C = 0.8)\n",
    "lr_cv = cross_val_score(lr, x_train, y_train, scoring = \"roc_auc\", cv = 5)\n",
    "print(\"Averge CV score for Logistic Regression is {} +- {}\".format(lr_cv.mean(), lr_cv.std()))"
   ]
  },
  {
   "cell_type": "code",
   "execution_count": 127,
   "metadata": {},
   "outputs": [
    {
     "name": "stderr",
     "output_type": "stream",
     "text": [
      "/opt/anaconda3/lib/python3.7/site-packages/sklearn/linear_model/logistic.py:432: FutureWarning: Default solver will be changed to 'lbfgs' in 0.22. Specify a solver to silence this warning.\n",
      "  FutureWarning)\n"
     ]
    },
    {
     "name": "stdout",
     "output_type": "stream",
     "text": [
      "ROC-AUC score for Logistic regression is: 0.8779969002392666\n",
      "Precision: 0.6836581709145427\n",
      "Recall: 0.2880606443461781\n",
      "Confusion matrix: [[16549   211]\n",
      " [ 1127   456]]\n"
     ]
    },
    {
     "data": {
      "image/png": "[encoded data removed]",
      "text/plain": [
       "<Figure size 432x288 with 1 Axes>"
      ]
     },
     "metadata": {
      "needs_background": "light"
     },
     "output_type": "display_data"
    }
   ],
   "source": [
    "## Logistic regression with imbalanced data and unweighted modelling\n",
    "lr.fit(x_train, y_train)\n",
    "x_test = pipeline_full.transform(X_test)\n",
    "y_predict = lr.predict(x_test)\n",
    "lr_prob = lr.predict_proba(x_test)\n",
    "\n",
    "print(\"ROC-AUC score for Logistic regression is:\", roc_auc_score(y_test, lr_prob[:,1]))\n",
    "fpr, tpr, threshold = roc_curve(y_test, lr_prob[:,1])\n",
    "plt.plot(fpr,tpr, marker='.')\n",
    "plt.xlabel(\"False positive rate\")\n",
    "plt.ylabel(\"True positive rate\")\n",
    "\n",
    "print(\"Precision:\",precision_score(y_test,y_predict))\n",
    "print(\"Recall:\", recall_score(y_test,y_predict))\n",
    "print(\"Confusion matrix:\", confusion_matrix(y_test,y_predict))\n"
   ]
  },
  {
   "cell_type": "code",
   "execution_count": 106,
   "metadata": {},
   "outputs": [
    {
     "name": "stderr",
     "output_type": "stream",
     "text": [
      "/opt/anaconda3/lib/python3.7/site-packages/sklearn/linear_model/logistic.py:432: FutureWarning: Default solver will be changed to 'lbfgs' in 0.22. Specify a solver to silence this warning.\n",
      "  FutureWarning)\n"
     ]
    },
    {
     "name": "stdout",
     "output_type": "stream",
     "text": [
      "ROC-AUC score for Logistic regression is: 0.8799505334875173\n",
      "Precision: 0.28789300797747536\n",
      "Recall: 0.7751105495893872\n",
      "Confusion matrix: [[13725  3035]\n",
      " [  356  1227]]\n"
     ]
    },
    {
     "data": {
      "image/png": "[encoded data removed]",
      "text/plain": [
       "<Figure size 432x288 with 1 Axes>"
      ]
     },
     "metadata": {
      "needs_background": "light"
     },
     "output_type": "display_data"
    }
   ],
   "source": [
    "### ## Logistic regression with imbalanced data and modeled with class weights\n",
    "lr_weight = LogisticRegression(penalty = 'l1', C = 0.8, class_weight='balanced')\n",
    "lr_weight.fit(x_train, y_train)\n",
    "y_predict_wt = lr_weight.predict(x_test)\n",
    "lr_weight_prob = lr_weight.predict_proba(x_test)\n",
    "\n",
    "print(\"ROC-AUC score for Logistic regression is:\", roc_auc_score(y_test, lr_weight_prob[:,1]))\n",
    "fpr, tpr, threshold = roc_curve(y_test, lr_weight_prob[:,1])\n",
    "plt.plot(fpr,tpr, marker='.')\n",
    "plt.xlabel(\"False positive rate\")\n",
    "plt.ylabel(\"True positive rate\")\n",
    "\n",
    "print(\"Precision:\",precision_score(y_test,y_predict_wt))\n",
    "print(\"Recall:\", recall_score(y_test,y_predict_wt))\n",
    "print(\"Confusion matrix:\", confusion_matrix(y_test,y_predict_wt))\n"
   ]
  },
  {
   "cell_type": "markdown",
   "metadata": {},
   "source": [
    "- Logistic regression with Lasso regularization is used to perform feature selection\n",
    "- ROC-AUC of the model is promising: 0.88\n",
    "- Confusion matrix indicates that FN rate is high. Lets look at the precision-recall curve. It will be highly useful to understand the model fit, particularly for skewed or imblanaced dataset\n",
    "- Precision score is 0.29 ==> model prediction for person's death is correct only 29% of the time. This indicates that this is a poor model\n",
    "- Morever, recall is 0.77 => the model has detected only 77% of the patient death.\n",
    "- Area under the PR-AUC is 0.5 -- indicating that it is a poor model. ROC-AUC is misleading in this scenario. To overcome this, let us oversample the minority data"
   ]
  },
  {
   "cell_type": "code",
   "execution_count": 124,
   "metadata": {},
   "outputs": [
    {
     "data": {
      "image/png": "[encoded data removed]",
      "text/plain": [
       "<Figure size 432x288 with 1 Axes>"
      ]
     },
     "metadata": {
      "needs_background": "light"
     },
     "output_type": "display_data"
    },
    {
     "name": "stdout",
     "output_type": "stream",
     "text": [
      "Area unde the curve for Precision-Recall Curve: 0.5098628338346509\n"
     ]
    },
    {
     "data": {
      "image/png": "[encoded data removed]",
      "text/plain": [
       "<Figure size 432x288 with 1 Axes>"
      ]
     },
     "metadata": {
      "needs_background": "light"
     },
     "output_type": "display_data"
    }
   ],
   "source": [
    "### ## Logistic regression with imbalanced data and modeled with class weights\n",
    "\n",
    "precision, recall, threshold = precision_recall_curve(y_test, lr_weight_prob[:,1])\n",
    "plt.plot(recall, precision)\n",
    "plt.axhline(y=0.086302, linestyle='--', color = 'red')\n",
    "plt.xlabel(\"Recall\")\n",
    "plt.ylabel(\"Precision\")\n",
    "plt.grid()\n",
    "plt.show()\n",
    "plt.plot(threshold, recall[1:], marker = '.', label = \"Recall\")\n",
    "plt.plot(threshold, precision[1:], marker = 'o', label = \"Precision\")\n",
    "plt.legend()\n",
    "plt.grid()\n",
    "print(\"Area unde the curve for Precision-Recall Curve:\", auc(recall, precision))"
   ]
  },
  {
   "cell_type": "code",
   "execution_count": null,
   "metadata": {},
   "outputs": [],
   "source": [
    "cat_columns = X_train_dum.select_dtypes(include = 'uint8').columns.tolist()\n",
    "num_cols = X_train_dum.select_dtypes(exclude = 'uint8').columns.tolist()\n",
    "final_cols = num_cols + cat_columns"
   ]
  }
 ],
 "metadata": {
  "kernelspec": {
   "display_name": "Python 3",
   "language": "python",
   "name": "python3"
  },
  "language_info": {
   "codemirror_mode": {
    "name": "ipython",
    "version": 3
   },
   "file_extension": ".py",
   "mimetype": "text/x-python",
   "name": "python",
   "nbconvert_exporter": "python",
   "pygments_lexer": "ipython3",
   "version": "3.7.4"
  }
 },
 "nbformat": 4,
 "nbformat_minor": 2
}
